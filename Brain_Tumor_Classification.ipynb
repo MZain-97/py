{
  "nbformat": 4,
  "nbformat_minor": 0,
  "metadata": {
    "colab": {
      "name": "Brain_Tumor_Classification",
      "provenance": [],
      "collapsed_sections": [],
      "authorship_tag": "ABX9TyNUIal0rb5Fbd4xnpvYH50K",
      "include_colab_link": true
    },
    "kernelspec": {
      "name": "python3",
      "display_name": "Python 3"
    },
    "language_info": {
      "name": "python"
    }
  },
  "cells": [
    {
      "cell_type": "markdown",
      "metadata": {
        "id": "view-in-github",
        "colab_type": "text"
      },
      "source": [
        "<a href=\"https://colab.research.google.com/github/MZain-97/py/blob/master/Brain_Tumor_Classification.ipynb\" target=\"_parent\"><img src=\"https://colab.research.google.com/assets/colab-badge.svg\" alt=\"Open In Colab\"/></a>"
      ]
    },
    {
      "cell_type": "markdown",
      "source": [
        "# **Brain Tumor Classification**"
      ],
      "metadata": {
        "id": "sDU4dj3_-URK"
      }
    },
    {
      "cell_type": "markdown",
      "source": [
        "### Get Access from Google Drive Data\n"
      ],
      "metadata": {
        "id": "Ief_oGBP-dQ7"
      }
    },
    {
      "cell_type": "code",
      "execution_count": 1,
      "metadata": {
        "colab": {
          "base_uri": "https://localhost:8080/"
        },
        "id": "FksO5-Wb-LAA",
        "outputId": "3c14a43a-f911-4d00-d893-2b5f6b35071f"
      },
      "outputs": [
        {
          "output_type": "stream",
          "name": "stdout",
          "text": [
            "Drive already mounted at /content/drive; to attempt to forcibly remount, call drive.mount(\"/content/drive\", force_remount=True).\n"
          ]
        }
      ],
      "source": [
        "from google.colab import drive\n",
        "drive.mount('/content/drive') "
      ]
    },
    {
      "cell_type": "markdown",
      "source": [
        "#### Unzip the Folder of Dataset"
      ],
      "metadata": {
        "id": "YOl_nk22_N6B"
      }
    },
    {
      "cell_type": "code",
      "source": [
        "from zipfile import ZipFile\n",
        "file_name = '/content/drive/MyDrive/Dataset.zip'\n",
        "with ZipFile(file_name,'r') as zip:\n",
        "  zip.extractall()\n",
        "  print('Completed')"
      ],
      "metadata": {
        "colab": {
          "base_uri": "https://localhost:8080/"
        },
        "id": "-ka7JKI3-tYh",
        "outputId": "e72cb51f-3b85-4639-cfa3-6cb043852c7f"
      },
      "execution_count": 2,
      "outputs": [
        {
          "output_type": "stream",
          "name": "stdout",
          "text": [
            "Completed\n"
          ]
        }
      ]
    },
    {
      "cell_type": "markdown",
      "source": [
        "## Image Preprocessing"
      ],
      "metadata": {
        "id": "kz3hxDwEBXYh"
      }
    },
    {
      "cell_type": "code",
      "source": [
        "!pip install -q keras"
      ],
      "metadata": {
        "id": "peLscw4C_zaO"
      },
      "execution_count": 3,
      "outputs": []
    },
    {
      "cell_type": "markdown",
      "source": [
        "#### Import Libaraies"
      ],
      "metadata": {
        "id": "nIvRXZ5LBiJT"
      }
    },
    {
      "cell_type": "code",
      "source": [
        "from keras.models import Sequential\n",
        "from keras.layers import Conv2D,MaxPooling2D,Flatten,Dense\n",
        "from keras.preprocessing.image import ImageDataGenerator"
      ],
      "metadata": {
        "id": "C9M-rhzgBM01"
      },
      "execution_count": 8,
      "outputs": []
    },
    {
      "cell_type": "markdown",
      "source": [
        "## Model Building"
      ],
      "metadata": {
        "id": "I8f9yxG0Ifhk"
      }
    },
    {
      "cell_type": "code",
      "source": [
        "# Inilializing the CNN \n",
        "CNN_Classifier = Sequential()"
      ],
      "metadata": {
        "id": "Dzfndzt2B0c3"
      },
      "execution_count": 9,
      "outputs": []
    },
    {
      "cell_type": "code",
      "source": [
        "# Step 1: Convolution (Applying Different Kernals on Images)\n",
        "CNN_Classifier.add( Conv2D(32,(3,3),input_shape=(64,64,3),activation='relu'))\n",
        "\n",
        "# Step 2: Pooling (Reduce the size of 2d features)\n",
        "CNN_Classifier.add(MaxPooling2D(pool_size=(2,2)))\n",
        "\n",
        "# Step 3: Again Convolution (Applying Different Kernals on Images)\n",
        "CNN_Classifier.add( Conv2D(16,(3,3),activation='relu'))\n",
        "\n",
        "# Step 4: Again Pooling (Reduce the size of 2d features)\n",
        "CNN_Classifier.add(MaxPooling2D(pool_size=(2,2)))\n",
        "\n",
        "# Step 5: Flattening (convert Features from 2d to 1d array)\n",
        "CNN_Classifier.add(Flatten())\n",
        "\n",
        "# Step 6: Full Connection \n",
        "CNN_Classifier.add(Dense(units=128,activation='relu'))\n",
        "CNN_Classifier.add(Dense(units=1,activation='sigmoid'))\n",
        "\n",
        "# Compiling the CNN\n",
        "\n",
        "CNN_Classifier.compile(optimizer='adam',loss='binary_crossentropy',metrics=['accuracy'])\n",
        "\n",
        "\n",
        "\n"
      ],
      "metadata": {
        "id": "gOHonkM9CsbE"
      },
      "execution_count": 10,
      "outputs": []
    },
    {
      "cell_type": "markdown",
      "source": [
        "### Data Augumentation"
      ],
      "metadata": {
        "id": "ZdIlFT7_KFle"
      }
    },
    {
      "cell_type": "code",
      "source": [
        "train_datagen = ImageDataGenerator(\n",
        "        rescale=1./255,\n",
        "        shear_range=0.2,\n",
        "        zoom_range=0.2,\n",
        "        horizontal_flip=True)\n",
        "\n",
        "test_datagen = ImageDataGenerator(rescale=1./255)\n",
        "\n",
        "training_set = train_datagen.flow_from_directory(\n",
        "        '/content/brain_tumor_dataset',\n",
        "        target_size=(64, 64),\n",
        "        batch_size=32,\n",
        "        class_mode='binary')\n",
        "\n",
        "testing_set = test_datagen.flow_from_directory(\n",
        "        '/content/Test',\n",
        "        target_size=(64, 64),\n",
        "        batch_size=32,\n",
        "        class_mode='binary')\n",
        "batch_size=32\n",
        "CNN_Classifier.fit(\n",
        "        training_set,\n",
        "        steps_per_epoch=int(253/batch_size),\n",
        "        epochs=10,\n",
        "        validation_data=testing_set,\n",
        "        validation_steps=int(10/batch_size))  "
      ],
      "metadata": {
        "colab": {
          "base_uri": "https://localhost:8080/"
        },
        "id": "xgfX_suLDBPg",
        "outputId": "fd870fd3-5f30-4cee-aed1-727b769dc280"
      },
      "execution_count": 16,
      "outputs": [
        {
          "output_type": "stream",
          "name": "stdout",
          "text": [
            "Found 253 images belonging to 2 classes.\n",
            "Found 10 images belonging to 2 classes.\n",
            "Epoch 1/10\n",
            "7/7 [==============================] - 2s 237ms/step - loss: 0.5663 - accuracy: 0.7232\n",
            "Epoch 2/10\n",
            "7/7 [==============================] - 2s 223ms/step - loss: 0.5559 - accuracy: 0.7511\n",
            "Epoch 3/10\n",
            "7/7 [==============================] - 2s 233ms/step - loss: 0.5303 - accuracy: 0.7285\n",
            "Epoch 4/10\n",
            "7/7 [==============================] - 2s 258ms/step - loss: 0.5120 - accuracy: 0.7602\n",
            "Epoch 5/10\n",
            "7/7 [==============================] - 2s 234ms/step - loss: 0.4934 - accuracy: 0.7738\n",
            "Epoch 6/10\n",
            "7/7 [==============================] - 2s 240ms/step - loss: 0.4951 - accuracy: 0.7466\n",
            "Epoch 7/10\n",
            "7/7 [==============================] - 2s 239ms/step - loss: 0.4971 - accuracy: 0.7692\n",
            "Epoch 8/10\n",
            "7/7 [==============================] - 2s 229ms/step - loss: 0.5078 - accuracy: 0.7692\n",
            "Epoch 9/10\n",
            "7/7 [==============================] - 2s 221ms/step - loss: 0.5197 - accuracy: 0.7511\n",
            "Epoch 10/10\n",
            "7/7 [==============================] - 2s 224ms/step - loss: 0.4743 - accuracy: 0.7828\n"
          ]
        },
        {
          "output_type": "execute_result",
          "data": {
            "text/plain": [
              "<keras.callbacks.History at 0x7f7fda7d9310>"
            ]
          },
          "metadata": {},
          "execution_count": 16
        }
      ]
    },
    {
      "cell_type": "code",
      "source": [
        "from numpy import expand_dims\n",
        "from keras.preprocessing.image import load_img\n",
        "from keras.preprocessing.image import img_to_array\n",
        "from keras.preprocessing.image import ImageDataGenerator\n",
        "from matplotlib import pyplot\n",
        "# load the image\n",
        "img = load_img('/content/brain_tumor_dataset/no/1 no.jpeg',target_size=(64,64))\n",
        "# convert to numpy array\n",
        "data = img_to_array(img)\n",
        "# expand dimension to one sample\n",
        "samples = expand_dims(data, 0)\n",
        "\n",
        "results = CNN_Classifier.predict(samples)\n",
        "training_set.class_indices\n",
        "if results[0][0]==1:\n",
        "  prediction='NO'\n",
        "  print(prediction)\n",
        "else:\n",
        "  prediction ='Yes'\n",
        "  print(prediction)\n",
        "\n"
      ],
      "metadata": {
        "colab": {
          "base_uri": "https://localhost:8080/"
        },
        "id": "QWmo6ENEM-cY",
        "outputId": "16635d03-5ab0-4594-f34e-6001c423d21b"
      },
      "execution_count": 19,
      "outputs": [
        {
          "output_type": "stream",
          "name": "stdout",
          "text": [
            "Yes\n"
          ]
        }
      ]
    },
    {
      "cell_type": "code",
      "source": [
        ""
      ],
      "metadata": {
        "colab": {
          "base_uri": "https://localhost:8080/"
        },
        "id": "h85np2QFRqEx",
        "outputId": "66743644-f58d-4f80-cf4c-488295e048ec"
      },
      "execution_count": 18,
      "outputs": [
        {
          "output_type": "execute_result",
          "data": {
            "text/plain": [
              "<keras.preprocessing.image.NumpyArrayIterator at 0x7f7fdb0329d0>"
            ]
          },
          "metadata": {},
          "execution_count": 18
        }
      ]
    },
    {
      "cell_type": "code",
      "source": [
        ""
      ],
      "metadata": {
        "id": "OTWrpfi0RrWE"
      },
      "execution_count": null,
      "outputs": []
    }
  ]
}